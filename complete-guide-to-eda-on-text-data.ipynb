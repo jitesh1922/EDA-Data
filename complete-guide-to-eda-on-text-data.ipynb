{
 "cells": [
  {
   "cell_type": "markdown",
   "id": "ae3ee786",
   "metadata": {
    "papermill": {
     "duration": 0.015807,
     "end_time": "2024-07-05T18:43:49.706379",
     "exception": false,
     "start_time": "2024-07-05T18:43:49.690572",
     "status": "completed"
    },
    "tags": []
   },
   "source": [
    "## EDA for Natural Language Processing\n",
    "\n",
    "<img src=\"https://editor.analyticsvidhya.com/uploads/50641nlp.jpeg\" alt=\"EDA for NLP\" style=\"width: 800px; height: 500px\">\n",
    "\n",
    "Exploratory Data Analysis is a crucial stage in any Data Science project. While EDA techniques have a wide range of options when it comes to Tabular data, the same is not true for text data. There are specific methods that work for NLP problems, that lead to a productive outcome. Text Data has many forms of input and also has a different set of properties and features. And of course, with such a wide range of use cases, there's always a unique way of analysis.\n",
    "\n",
    "We will look at some fundamental EDA techniques for text data:\n",
    "* **Counts and Lengths**: Count of words and sentences, their length and average length\n",
    "* **Term Frequency Analysis**: Most frequently occuring words and n_grams\n",
    "\n",
    "For demonstration, we will use the Trip Advisor Hotel Reviews<br>\n",
    "For more NLP content, checkout this notebook for Sentiment Analysis on another dataset - [notebook](https://www.kaggle.com/code/harshsingh2209/spotify-reviews-sentiment-analysis/notebook)"
   ]
  },
  {
   "cell_type": "markdown",
   "id": "5b9d5d64",
   "metadata": {
    "papermill": {
     "duration": 0.013808,
     "end_time": "2024-07-05T18:43:49.734114",
     "exception": false,
     "start_time": "2024-07-05T18:43:49.720306",
     "status": "completed"
    },
    "tags": []
   },
   "source": [
    "## Setup"
   ]
  },
  {
   "cell_type": "code",
   "execution_count": 1,
   "id": "2e206e81",
   "metadata": {
    "execution": {
     "iopub.execute_input": "2024-07-05T18:43:49.764555Z",
     "iopub.status.busy": "2024-07-05T18:43:49.763892Z",
     "iopub.status.idle": "2024-07-05T18:43:51.869434Z",
     "shell.execute_reply": "2024-07-05T18:43:51.867913Z"
    },
    "papermill": {
     "duration": 2.124219,
     "end_time": "2024-07-05T18:43:51.872567",
     "exception": false,
     "start_time": "2024-07-05T18:43:49.748348",
     "status": "completed"
    },
    "tags": []
   },
   "outputs": [],
   "source": [
    "import numpy as np\n",
    "import pandas as pd\n",
    "import matplotlib.pyplot as plt\n",
    "import seaborn as sns\n",
    "import string\n",
    "import re\n",
    "import nltk\n",
    "\n",
    "from tqdm import trange\n",
    "from nltk import tokenize\n",
    "from nltk.corpus import stopwords\n",
    "from nltk.stem import WordNetLemmatizer\n",
    "from nltk.probability import FreqDist\n",
    "from collections import Counter\n",
    "from sklearn.feature_extraction.text import CountVectorizer"
   ]
  },
  {
   "cell_type": "code",
   "execution_count": 2,
   "id": "36b638be",
   "metadata": {
    "execution": {
     "iopub.execute_input": "2024-07-05T18:43:51.903710Z",
     "iopub.status.busy": "2024-07-05T18:43:51.903210Z",
     "iopub.status.idle": "2024-07-05T18:43:52.181775Z",
     "shell.execute_reply": "2024-07-05T18:43:52.180464Z"
    },
    "papermill": {
     "duration": 0.296983,
     "end_time": "2024-07-05T18:43:52.185042",
     "exception": false,
     "start_time": "2024-07-05T18:43:51.888059",
     "status": "completed"
    },
    "tags": []
   },
   "outputs": [],
   "source": [
    "import warnings\n",
    "warnings.filterwarnings('ignore')\n",
    "nltk.download('omw-1.4', quiet=True)\n",
    "sns.set_style('darkgrid')\n",
    "plt.rcParams['figure.figsize'] = (17,7)\n",
    "plt.rcParams['font.size'] = 18"
   ]
  },
  {
   "cell_type": "markdown",
   "id": "d8d89e8b",
   "metadata": {
    "papermill": {
     "duration": 0.013305,
     "end_time": "2024-07-05T18:43:52.212310",
     "exception": false,
     "start_time": "2024-07-05T18:43:52.199005",
     "status": "completed"
    },
    "tags": []
   },
   "source": [
    "## Loading the Data"
   ]
  },
  {
   "cell_type": "code",
   "execution_count": 3,
   "id": "d6a611a0",
   "metadata": {
    "_kg_hide-input": false,
    "_kg_hide-output": true,
    "execution": {
     "iopub.execute_input": "2024-07-05T18:43:52.241737Z",
     "iopub.status.busy": "2024-07-05T18:43:52.241294Z",
     "iopub.status.idle": "2024-07-05T18:43:52.647196Z",
     "shell.execute_reply": "2024-07-05T18:43:52.645840Z"
    },
    "papermill": {
     "duration": 0.424531,
     "end_time": "2024-07-05T18:43:52.650607",
     "exception": false,
     "start_time": "2024-07-05T18:43:52.226076",
     "status": "completed"
    },
    "tags": []
   },
   "outputs": [
    {
     "data": {
      "text/html": [
       "<div>\n",
       "<style scoped>\n",
       "    .dataframe tbody tr th:only-of-type {\n",
       "        vertical-align: middle;\n",
       "    }\n",
       "\n",
       "    .dataframe tbody tr th {\n",
       "        vertical-align: top;\n",
       "    }\n",
       "\n",
       "    .dataframe thead th {\n",
       "        text-align: right;\n",
       "    }\n",
       "</style>\n",
       "<table border=\"1\" class=\"dataframe\">\n",
       "  <thead>\n",
       "    <tr style=\"text-align: right;\">\n",
       "      <th></th>\n",
       "      <th>Review</th>\n",
       "      <th>Rating</th>\n",
       "    </tr>\n",
       "  </thead>\n",
       "  <tbody>\n",
       "    <tr>\n",
       "      <th>0</th>\n",
       "      <td>nice hotel expensive parking got good deal sta...</td>\n",
       "      <td>4</td>\n",
       "    </tr>\n",
       "    <tr>\n",
       "      <th>1</th>\n",
       "      <td>ok nothing special charge diamond member hilto...</td>\n",
       "      <td>2</td>\n",
       "    </tr>\n",
       "    <tr>\n",
       "      <th>2</th>\n",
       "      <td>nice rooms not 4* experience hotel monaco seat...</td>\n",
       "      <td>3</td>\n",
       "    </tr>\n",
       "    <tr>\n",
       "      <th>3</th>\n",
       "      <td>unique, great stay, wonderful time hotel monac...</td>\n",
       "      <td>5</td>\n",
       "    </tr>\n",
       "    <tr>\n",
       "      <th>4</th>\n",
       "      <td>great stay great stay, went seahawk game aweso...</td>\n",
       "      <td>5</td>\n",
       "    </tr>\n",
       "    <tr>\n",
       "      <th>5</th>\n",
       "      <td>love monaco staff husband stayed hotel crazy w...</td>\n",
       "      <td>5</td>\n",
       "    </tr>\n",
       "    <tr>\n",
       "      <th>6</th>\n",
       "      <td>cozy stay rainy city, husband spent 7 nights m...</td>\n",
       "      <td>5</td>\n",
       "    </tr>\n",
       "    <tr>\n",
       "      <th>7</th>\n",
       "      <td>excellent staff, housekeeping quality hotel ch...</td>\n",
       "      <td>4</td>\n",
       "    </tr>\n",
       "    <tr>\n",
       "      <th>8</th>\n",
       "      <td>hotel stayed hotel monaco cruise, rooms genero...</td>\n",
       "      <td>5</td>\n",
       "    </tr>\n",
       "    <tr>\n",
       "      <th>9</th>\n",
       "      <td>excellent stayed hotel monaco past w/e delight...</td>\n",
       "      <td>5</td>\n",
       "    </tr>\n",
       "  </tbody>\n",
       "</table>\n",
       "</div>"
      ],
      "text/plain": [
       "                                              Review  Rating\n",
       "0  nice hotel expensive parking got good deal sta...       4\n",
       "1  ok nothing special charge diamond member hilto...       2\n",
       "2  nice rooms not 4* experience hotel monaco seat...       3\n",
       "3  unique, great stay, wonderful time hotel monac...       5\n",
       "4  great stay great stay, went seahawk game aweso...       5\n",
       "5  love monaco staff husband stayed hotel crazy w...       5\n",
       "6  cozy stay rainy city, husband spent 7 nights m...       5\n",
       "7  excellent staff, housekeeping quality hotel ch...       4\n",
       "8  hotel stayed hotel monaco cruise, rooms genero...       5\n",
       "9  excellent stayed hotel monaco past w/e delight...       5"
      ]
     },
     "execution_count": 3,
     "metadata": {},
     "output_type": "execute_result"
    }
   ],
   "source": [
    "data = pd.read_csv('../input/trip-advisor-hotel-reviews/tripadvisor_hotel_reviews.csv')\n",
    "data.head(10)"
   ]
  },
  {
   "cell_type": "markdown",
   "id": "e6b76381",
   "metadata": {
    "papermill": {
     "duration": 0.013753,
     "end_time": "2024-07-05T18:43:52.679898",
     "exception": false,
     "start_time": "2024-07-05T18:43:52.666145",
     "status": "completed"
    },
    "tags": []
   },
   "source": [
    "Now that we have our data, we can begin with the EDA.<br>**But first**, we need to transform the 'Rating' column to binary labels"
   ]
  },
  {
   "cell_type": "code",
   "execution_count": 4,
   "id": "73b36e04",
   "metadata": {
    "execution": {
     "iopub.execute_input": "2024-07-05T18:43:52.710843Z",
     "iopub.status.busy": "2024-07-05T18:43:52.710410Z",
     "iopub.status.idle": "2024-07-05T18:43:52.728386Z",
     "shell.execute_reply": "2024-07-05T18:43:52.727064Z"
    },
    "papermill": {
     "duration": 0.037351,
     "end_time": "2024-07-05T18:43:52.731549",
     "exception": false,
     "start_time": "2024-07-05T18:43:52.694198",
     "status": "completed"
    },
    "tags": []
   },
   "outputs": [
    {
     "data": {
      "text/plain": [
       "5    9054\n",
       "4    6039\n",
       "3    2184\n",
       "2    1793\n",
       "1    1421\n",
       "Name: Rating, dtype: int64"
      ]
     },
     "execution_count": 4,
     "metadata": {},
     "output_type": "execute_result"
    }
   ],
   "source": [
    "data['Rating'].value_counts()"
   ]
  },
  {
   "cell_type": "code",
   "execution_count": 5,
   "id": "72f2024a",
   "metadata": {
    "execution": {
     "iopub.execute_input": "2024-07-05T18:43:52.764074Z",
     "iopub.status.busy": "2024-07-05T18:43:52.763585Z",
     "iopub.status.idle": "2024-07-05T18:43:52.771511Z",
     "shell.execute_reply": "2024-07-05T18:43:52.770020Z"
    },
    "papermill": {
     "duration": 0.028006,
     "end_time": "2024-07-05T18:43:52.774874",
     "exception": false,
     "start_time": "2024-07-05T18:43:52.746868",
     "status": "completed"
    },
    "tags": []
   },
   "outputs": [],
   "source": [
    "# rating 4, 5 => Positive; 1, 2, 3 => Negative\n",
    "def ratings(rating):\n",
    "    if rating>3 and rating<=5:\n",
    "        return \"Positive\"\n",
    "    if rating>0 and rating<=3:\n",
    "        return \"Negative\""
   ]
  },
  {
   "cell_type": "code",
   "execution_count": 6,
   "id": "6f067841",
   "metadata": {
    "execution": {
     "iopub.execute_input": "2024-07-05T18:43:52.806052Z",
     "iopub.status.busy": "2024-07-05T18:43:52.805580Z",
     "iopub.status.idle": "2024-07-05T18:43:53.014859Z",
     "shell.execute_reply": "2024-07-05T18:43:53.012979Z"
    },
    "papermill": {
     "duration": 0.230571,
     "end_time": "2024-07-05T18:43:53.019838",
     "exception": false,
     "start_time": "2024-07-05T18:43:52.789267",
     "status": "completed"
    },
    "tags": []
   },
   "outputs": [
    {
     "data": {
      "image/png": "[encoded data removed]",
      "text/plain": [
       "<Figure size 1224x504 with 1 Axes>"
      ]
     },
     "metadata": {},
     "output_type": "display_data"
    }
   ],
   "source": [
    "data['Rating'] = data['Rating'].apply(ratings)\n",
    "plt.pie(data['Rating'].value_counts(), labels=data['Rating'].unique().tolist(), autopct='%1.1f%%')\n",
    "plt.show()"
   ]
  },
  {
   "cell_type": "markdown",
   "id": "555eb87a",
   "metadata": {
    "papermill": {
     "duration": 0.015191,
     "end_time": "2024-07-05T18:43:53.068694",
     "exception": false,
     "start_time": "2024-07-05T18:43:53.053503",
     "status": "completed"
    },
    "tags": []
   },
   "source": [
    "## Exploratory Data Analysis\n",
    " \n",
    "### Counts and Lenght:\n",
    "Start by checking how long the reviews are\n",
    "* Character count\n",
    "* Word count\n",
    "* Mean word length\n",
    "* Mean sentence length"
   ]
  },
  {
   "cell_type": "code",
   "execution_count": 7,
   "id": "59b79ac1",
   "metadata": {
    "execution": {
     "iopub.execute_input": "2024-07-05T18:43:53.104227Z",
     "iopub.status.busy": "2024-07-05T18:43:53.103771Z",
     "iopub.status.idle": "2024-07-05T18:43:53.110915Z",
     "shell.execute_reply": "2024-07-05T18:43:53.109477Z"
    },
    "papermill": {
     "duration": 0.028012,
     "end_time": "2024-07-05T18:43:53.114283",
     "exception": false,
     "start_time": "2024-07-05T18:43:53.086271",
     "status": "completed"
    },
    "tags": []
   },
   "outputs": [
    {
     "name": "stdout",
     "output_type": "stream",
     "text": [
      "Length of a sample review: 593\n"
     ]
    }
   ],
   "source": [
    "lenght = len(data['Review'][0])\n",
    "print(f'Length of a sample review: {lenght}')"
   ]
  },
  {
   "cell_type": "code",
   "execution_count": 8,
   "id": "a2eb5ce8",
   "metadata": {
    "_kg_hide-output": true,
    "execution": {
     "iopub.execute_input": "2024-07-05T18:43:53.147927Z",
     "iopub.status.busy": "2024-07-05T18:43:53.147481Z",
     "iopub.status.idle": "2024-07-05T18:43:53.188194Z",
     "shell.execute_reply": "2024-07-05T18:43:53.186799Z"
    },
    "papermill": {
     "duration": 0.060128,
     "end_time": "2024-07-05T18:43:53.191259",
     "exception": false,
     "start_time": "2024-07-05T18:43:53.131131",
     "status": "completed"
    },
    "tags": []
   },
   "outputs": [
    {
     "data": {
      "text/html": [
       "<div>\n",
       "<style scoped>\n",
       "    .dataframe tbody tr th:only-of-type {\n",
       "        vertical-align: middle;\n",
       "    }\n",
       "\n",
       "    .dataframe tbody tr th {\n",
       "        vertical-align: top;\n",
       "    }\n",
       "\n",
       "    .dataframe thead th {\n",
       "        text-align: right;\n",
       "    }\n",
       "</style>\n",
       "<table border=\"1\" class=\"dataframe\">\n",
       "  <thead>\n",
       "    <tr style=\"text-align: right;\">\n",
       "      <th></th>\n",
       "      <th>Review</th>\n",
       "      <th>Rating</th>\n",
       "      <th>Length</th>\n",
       "    </tr>\n",
       "  </thead>\n",
       "  <tbody>\n",
       "    <tr>\n",
       "      <th>0</th>\n",
       "      <td>nice hotel expensive parking got good deal sta...</td>\n",
       "      <td>Positive</td>\n",
       "      <td>593</td>\n",
       "    </tr>\n",
       "    <tr>\n",
       "      <th>1</th>\n",
       "      <td>ok nothing special charge diamond member hilto...</td>\n",
       "      <td>Negative</td>\n",
       "      <td>1689</td>\n",
       "    </tr>\n",
       "    <tr>\n",
       "      <th>2</th>\n",
       "      <td>nice rooms not 4* experience hotel monaco seat...</td>\n",
       "      <td>Negative</td>\n",
       "      <td>1427</td>\n",
       "    </tr>\n",
       "    <tr>\n",
       "      <th>3</th>\n",
       "      <td>unique, great stay, wonderful time hotel monac...</td>\n",
       "      <td>Positive</td>\n",
       "      <td>600</td>\n",
       "    </tr>\n",
       "    <tr>\n",
       "      <th>4</th>\n",
       "      <td>great stay great stay, went seahawk game aweso...</td>\n",
       "      <td>Positive</td>\n",
       "      <td>1281</td>\n",
       "    </tr>\n",
       "    <tr>\n",
       "      <th>5</th>\n",
       "      <td>love monaco staff husband stayed hotel crazy w...</td>\n",
       "      <td>Positive</td>\n",
       "      <td>1002</td>\n",
       "    </tr>\n",
       "    <tr>\n",
       "      <th>6</th>\n",
       "      <td>cozy stay rainy city, husband spent 7 nights m...</td>\n",
       "      <td>Positive</td>\n",
       "      <td>748</td>\n",
       "    </tr>\n",
       "    <tr>\n",
       "      <th>7</th>\n",
       "      <td>excellent staff, housekeeping quality hotel ch...</td>\n",
       "      <td>Positive</td>\n",
       "      <td>597</td>\n",
       "    </tr>\n",
       "    <tr>\n",
       "      <th>8</th>\n",
       "      <td>hotel stayed hotel monaco cruise, rooms genero...</td>\n",
       "      <td>Positive</td>\n",
       "      <td>419</td>\n",
       "    </tr>\n",
       "    <tr>\n",
       "      <th>9</th>\n",
       "      <td>excellent stayed hotel monaco past w/e delight...</td>\n",
       "      <td>Positive</td>\n",
       "      <td>271</td>\n",
       "    </tr>\n",
       "  </tbody>\n",
       "</table>\n",
       "</div>"
      ],
      "text/plain": [
       "                                              Review    Rating  Length\n",
       "0  nice hotel expensive parking got good deal sta...  Positive     593\n",
       "1  ok nothing special charge diamond member hilto...  Negative    1689\n",
       "2  nice rooms not 4* experience hotel monaco seat...  Negative    1427\n",
       "3  unique, great stay, wonderful time hotel monac...  Positive     600\n",
       "4  great stay great stay, went seahawk game aweso...  Positive    1281\n",
       "5  love monaco staff husband stayed hotel crazy w...  Positive    1002\n",
       "6  cozy stay rainy city, husband spent 7 nights m...  Positive     748\n",
       "7  excellent staff, housekeeping quality hotel ch...  Positive     597\n",
       "8  hotel stayed hotel monaco cruise, rooms genero...  Positive     419\n",
       "9  excellent stayed hotel monaco past w/e delight...  Positive     271"
      ]
     },
     "execution_count": 8,
     "metadata": {},
     "output_type": "execute_result"
    }
   ],
   "source": [
    "data['Length'] = data['Review'].str.len()\n",
    "data.head(10)"
   ]
  },
  {
   "cell_type": "markdown",
   "id": "c0faacca",
   "metadata": {
    "papermill": {
     "duration": 0.014683,
     "end_time": "2024-07-05T18:43:53.222547",
     "exception": false,
     "start_time": "2024-07-05T18:43:53.207864",
     "status": "completed"
    },
    "tags": []
   },
   "source": [
    "#### **Word Count**: Number of words in a review"
   ]
  },
  {
   "cell_type": "code",
   "execution_count": 9,
   "id": "ca7ef4a3",
   "metadata": {
    "execution": {
     "iopub.execute_input": "2024-07-05T18:43:53.255193Z",
     "iopub.status.busy": "2024-07-05T18:43:53.254698Z",
     "iopub.status.idle": "2024-07-05T18:43:53.261865Z",
     "shell.execute_reply": "2024-07-05T18:43:53.260105Z"
    },
    "papermill": {
     "duration": 0.026865,
     "end_time": "2024-07-05T18:43:53.264795",
     "exception": false,
     "start_time": "2024-07-05T18:43:53.237930",
     "status": "completed"
    },
    "tags": []
   },
   "outputs": [
    {
     "name": "stdout",
     "output_type": "stream",
     "text": [
      "Word count in a sample review: 87\n"
     ]
    }
   ],
   "source": [
    "word_count = data['Review'][0].split()\n",
    "print(f'Word count in a sample review: {len(word_count)}')"
   ]
  },
  {
   "cell_type": "code",
   "execution_count": 10,
   "id": "18bd8843",
   "metadata": {
    "execution": {
     "iopub.execute_input": "2024-07-05T18:43:53.301302Z",
     "iopub.status.busy": "2024-07-05T18:43:53.300809Z",
     "iopub.status.idle": "2024-07-05T18:43:53.308067Z",
     "shell.execute_reply": "2024-07-05T18:43:53.306664Z"
    },
    "papermill": {
     "duration": 0.027819,
     "end_time": "2024-07-05T18:43:53.311508",
     "exception": false,
     "start_time": "2024-07-05T18:43:53.283689",
     "status": "completed"
    },
    "tags": []
   },
   "outputs": [],
   "source": [
    "def word_count(review):\n",
    "    review_list = review.split()\n",
    "    return len(review_list)"
   ]
  },
  {
   "cell_type": "code",
   "execution_count": 11,
   "id": "118781b1",
   "metadata": {
    "_kg_hide-output": true,
    "execution": {
     "iopub.execute_input": "2024-07-05T18:43:53.344357Z",
     "iopub.status.busy": "2024-07-05T18:43:53.343880Z",
     "iopub.status.idle": "2024-07-05T18:43:53.556796Z",
     "shell.execute_reply": "2024-07-05T18:43:53.555621Z"
    },
    "papermill": {
     "duration": 0.232469,
     "end_time": "2024-07-05T18:43:53.559558",
     "exception": false,
     "start_time": "2024-07-05T18:43:53.327089",
     "status": "completed"
    },
    "tags": []
   },
   "outputs": [
    {
     "data": {
      "text/html": [
       "<div>\n",
       "<style scoped>\n",
       "    .dataframe tbody tr th:only-of-type {\n",
       "        vertical-align: middle;\n",
       "    }\n",
       "\n",
       "    .dataframe tbody tr th {\n",
       "        vertical-align: top;\n",
       "    }\n",
       "\n",
       "    .dataframe thead th {\n",
       "        text-align: right;\n",
       "    }\n",
       "</style>\n",
       "<table border=\"1\" class=\"dataframe\">\n",
       "  <thead>\n",
       "    <tr style=\"text-align: right;\">\n",
       "      <th></th>\n",
       "      <th>Review</th>\n",
       "      <th>Rating</th>\n",
       "      <th>Length</th>\n",
       "      <th>Word_count</th>\n",
       "    </tr>\n",
       "  </thead>\n",
       "  <tbody>\n",
       "    <tr>\n",
       "      <th>0</th>\n",
       "      <td>nice hotel expensive parking got good deal sta...</td>\n",
       "      <td>Positive</td>\n",
       "      <td>593</td>\n",
       "      <td>87</td>\n",
       "    </tr>\n",
       "    <tr>\n",
       "      <th>1</th>\n",
       "      <td>ok nothing special charge diamond member hilto...</td>\n",
       "      <td>Negative</td>\n",
       "      <td>1689</td>\n",
       "      <td>250</td>\n",
       "    </tr>\n",
       "    <tr>\n",
       "      <th>2</th>\n",
       "      <td>nice rooms not 4* experience hotel monaco seat...</td>\n",
       "      <td>Negative</td>\n",
       "      <td>1427</td>\n",
       "      <td>217</td>\n",
       "    </tr>\n",
       "    <tr>\n",
       "      <th>3</th>\n",
       "      <td>unique, great stay, wonderful time hotel monac...</td>\n",
       "      <td>Positive</td>\n",
       "      <td>600</td>\n",
       "      <td>89</td>\n",
       "    </tr>\n",
       "    <tr>\n",
       "      <th>4</th>\n",
       "      <td>great stay great stay, went seahawk game aweso...</td>\n",
       "      <td>Positive</td>\n",
       "      <td>1281</td>\n",
       "      <td>191</td>\n",
       "    </tr>\n",
       "    <tr>\n",
       "      <th>5</th>\n",
       "      <td>love monaco staff husband stayed hotel crazy w...</td>\n",
       "      <td>Positive</td>\n",
       "      <td>1002</td>\n",
       "      <td>134</td>\n",
       "    </tr>\n",
       "    <tr>\n",
       "      <th>6</th>\n",
       "      <td>cozy stay rainy city, husband spent 7 nights m...</td>\n",
       "      <td>Positive</td>\n",
       "      <td>748</td>\n",
       "      <td>101</td>\n",
       "    </tr>\n",
       "    <tr>\n",
       "      <th>7</th>\n",
       "      <td>excellent staff, housekeeping quality hotel ch...</td>\n",
       "      <td>Positive</td>\n",
       "      <td>597</td>\n",
       "      <td>85</td>\n",
       "    </tr>\n",
       "    <tr>\n",
       "      <th>8</th>\n",
       "      <td>hotel stayed hotel monaco cruise, rooms genero...</td>\n",
       "      <td>Positive</td>\n",
       "      <td>419</td>\n",
       "      <td>59</td>\n",
       "    </tr>\n",
       "    <tr>\n",
       "      <th>9</th>\n",
       "      <td>excellent stayed hotel monaco past w/e delight...</td>\n",
       "      <td>Positive</td>\n",
       "      <td>271</td>\n",
       "      <td>35</td>\n",
       "    </tr>\n",
       "  </tbody>\n",
       "</table>\n",
       "</div>"
      ],
      "text/plain": [
       "                                              Review    Rating  Length  \\\n",
       "0  nice hotel expensive parking got good deal sta...  Positive     593   \n",
       "1  ok nothing special charge diamond member hilto...  Negative    1689   \n",
       "2  nice rooms not 4* experience hotel monaco seat...  Negative    1427   \n",
       "3  unique, great stay, wonderful time hotel monac...  Positive     600   \n",
       "4  great stay great stay, went seahawk game aweso...  Positive    1281   \n",
       "5  love monaco staff husband stayed hotel crazy w...  Positive    1002   \n",
       "6  cozy stay rainy city, husband spent 7 nights m...  Positive     748   \n",
       "7  excellent staff, housekeeping quality hotel ch...  Positive     597   \n",
       "8  hotel stayed hotel monaco cruise, rooms genero...  Positive     419   \n",
       "9  excellent stayed hotel monaco past w/e delight...  Positive     271   \n",
       "\n",
       "   Word_count  \n",
       "0          87  \n",
       "1         250  \n",
       "2         217  \n",
       "3          89  \n",
       "4         191  \n",
       "5         134  \n",
       "6         101  \n",
       "7          85  \n",
       "8          59  \n",
       "9          35  "
      ]
     },
     "execution_count": 11,
     "metadata": {},
     "output_type": "execute_result"
    }
   ],
   "source": [
    "data['Word_count'] = data['Review'].apply(word_count)\n",
    "data.head(10)"
   ]
  },
  {
   "cell_type": "markdown",
   "id": "ce4620d7",
   "metadata": {
    "papermill": {
     "duration": 0.015149,
     "end_time": "2024-07-05T18:43:53.590435",
     "exception": false,
     "start_time": "2024-07-05T18:43:53.575286",
     "status": "completed"
    },
    "tags": []
   },
   "source": [
    "#### **Mean word length**: Average length of words"
   ]
  },
  {
   "cell_type": "code",
   "execution_count": 12,
   "id": "af11697e",
   "metadata": {
    "_kg_hide-output": true,
    "execution": {
     "iopub.execute_input": "2024-07-05T18:43:53.623296Z",
     "iopub.status.busy": "2024-07-05T18:43:53.622833Z",
     "iopub.status.idle": "2024-07-05T18:43:54.738492Z",
     "shell.execute_reply": "2024-07-05T18:43:54.737166Z"
    },
    "papermill": {
     "duration": 1.135273,
     "end_time": "2024-07-05T18:43:54.741298",
     "exception": false,
     "start_time": "2024-07-05T18:43:53.606025",
     "status": "completed"
    },
    "tags": []
   },
   "outputs": [
    {
     "data": {
      "text/html": [
       "<div>\n",
       "<style scoped>\n",
       "    .dataframe tbody tr th:only-of-type {\n",
       "        vertical-align: middle;\n",
       "    }\n",
       "\n",
       "    .dataframe tbody tr th {\n",
       "        vertical-align: top;\n",
       "    }\n",
       "\n",
       "    .dataframe thead th {\n",
       "        text-align: right;\n",
       "    }\n",
       "</style>\n",
       "<table border=\"1\" class=\"dataframe\">\n",
       "  <thead>\n",
       "    <tr style=\"text-align: right;\">\n",
       "      <th></th>\n",
       "      <th>Review</th>\n",
       "      <th>Rating</th>\n",
       "      <th>Length</th>\n",
       "      <th>Word_count</th>\n",
       "      <th>mean_word_length</th>\n",
       "    </tr>\n",
       "  </thead>\n",
       "  <tbody>\n",
       "    <tr>\n",
       "      <th>0</th>\n",
       "      <td>nice hotel expensive parking got good deal sta...</td>\n",
       "      <td>Positive</td>\n",
       "      <td>593</td>\n",
       "      <td>87</td>\n",
       "      <td>5.804598</td>\n",
       "    </tr>\n",
       "    <tr>\n",
       "      <th>1</th>\n",
       "      <td>ok nothing special charge diamond member hilto...</td>\n",
       "      <td>Negative</td>\n",
       "      <td>1689</td>\n",
       "      <td>250</td>\n",
       "      <td>5.752000</td>\n",
       "    </tr>\n",
       "    <tr>\n",
       "      <th>2</th>\n",
       "      <td>nice rooms not 4* experience hotel monaco seat...</td>\n",
       "      <td>Negative</td>\n",
       "      <td>1427</td>\n",
       "      <td>217</td>\n",
       "      <td>5.571429</td>\n",
       "    </tr>\n",
       "    <tr>\n",
       "      <th>3</th>\n",
       "      <td>unique, great stay, wonderful time hotel monac...</td>\n",
       "      <td>Positive</td>\n",
       "      <td>600</td>\n",
       "      <td>89</td>\n",
       "      <td>5.730337</td>\n",
       "    </tr>\n",
       "    <tr>\n",
       "      <th>4</th>\n",
       "      <td>great stay great stay, went seahawk game aweso...</td>\n",
       "      <td>Positive</td>\n",
       "      <td>1281</td>\n",
       "      <td>191</td>\n",
       "      <td>5.701571</td>\n",
       "    </tr>\n",
       "    <tr>\n",
       "      <th>5</th>\n",
       "      <td>love monaco staff husband stayed hotel crazy w...</td>\n",
       "      <td>Positive</td>\n",
       "      <td>1002</td>\n",
       "      <td>134</td>\n",
       "      <td>6.470149</td>\n",
       "    </tr>\n",
       "    <tr>\n",
       "      <th>6</th>\n",
       "      <td>cozy stay rainy city, husband spent 7 nights m...</td>\n",
       "      <td>Positive</td>\n",
       "      <td>748</td>\n",
       "      <td>101</td>\n",
       "      <td>6.396040</td>\n",
       "    </tr>\n",
       "    <tr>\n",
       "      <th>7</th>\n",
       "      <td>excellent staff, housekeeping quality hotel ch...</td>\n",
       "      <td>Positive</td>\n",
       "      <td>597</td>\n",
       "      <td>85</td>\n",
       "      <td>6.011765</td>\n",
       "    </tr>\n",
       "    <tr>\n",
       "      <th>8</th>\n",
       "      <td>hotel stayed hotel monaco cruise, rooms genero...</td>\n",
       "      <td>Positive</td>\n",
       "      <td>419</td>\n",
       "      <td>59</td>\n",
       "      <td>6.084746</td>\n",
       "    </tr>\n",
       "    <tr>\n",
       "      <th>9</th>\n",
       "      <td>excellent stayed hotel monaco past w/e delight...</td>\n",
       "      <td>Positive</td>\n",
       "      <td>271</td>\n",
       "      <td>35</td>\n",
       "      <td>6.714286</td>\n",
       "    </tr>\n",
       "  </tbody>\n",
       "</table>\n",
       "</div>"
      ],
      "text/plain": [
       "                                              Review    Rating  Length  \\\n",
       "0  nice hotel expensive parking got good deal sta...  Positive     593   \n",
       "1  ok nothing special charge diamond member hilto...  Negative    1689   \n",
       "2  nice rooms not 4* experience hotel monaco seat...  Negative    1427   \n",
       "3  unique, great stay, wonderful time hotel monac...  Positive     600   \n",
       "4  great stay great stay, went seahawk game aweso...  Positive    1281   \n",
       "5  love monaco staff husband stayed hotel crazy w...  Positive    1002   \n",
       "6  cozy stay rainy city, husband spent 7 nights m...  Positive     748   \n",
       "7  excellent staff, housekeeping quality hotel ch...  Positive     597   \n",
       "8  hotel stayed hotel monaco cruise, rooms genero...  Positive     419   \n",
       "9  excellent stayed hotel monaco past w/e delight...  Positive     271   \n",
       "\n",
       "   Word_count  mean_word_length  \n",
       "0          87          5.804598  \n",
       "1         250          5.752000  \n",
       "2         217          5.571429  \n",
       "3          89          5.730337  \n",
       "4         191          5.701571  \n",
       "5         134          6.470149  \n",
       "6         101          6.396040  \n",
       "7          85          6.011765  \n",
       "8          59          6.084746  \n",
       "9          35          6.714286  "
      ]
     },
     "execution_count": 12,
     "metadata": {},
     "output_type": "execute_result"
    }
   ],
   "source": [
    "data['mean_word_length'] = data['Review'].map(lambda rev: np.mean([len(word) for word in rev.split()]))\n",
    "data.head(10)"
   ]
  },
  {
   "cell_type": "markdown",
   "id": "e2a842e9",
   "metadata": {
    "papermill": {
     "duration": 0.01677,
     "end_time": "2024-07-05T18:43:54.774344",
     "exception": false,
     "start_time": "2024-07-05T18:43:54.757574",
     "status": "completed"
    },
    "tags": []
   },
   "source": [
    "#### **Mean sentence length**: Average length of the sentences in the review"
   ]
  },
  {
   "cell_type": "code",
   "execution_count": 13,
   "id": "baf62c24",
   "metadata": {
    "execution": {
     "iopub.execute_input": "2024-07-05T18:43:54.807739Z",
     "iopub.status.busy": "2024-07-05T18:43:54.807318Z",
     "iopub.status.idle": "2024-07-05T18:43:54.830153Z",
     "shell.execute_reply": "2024-07-05T18:43:54.828868Z"
    },
    "papermill": {
     "duration": 0.042731,
     "end_time": "2024-07-05T18:43:54.833176",
     "exception": false,
     "start_time": "2024-07-05T18:43:54.790445",
     "status": "completed"
    },
    "tags": []
   },
   "outputs": [
    {
     "data": {
      "text/plain": [
       "591.0"
      ]
     },
     "execution_count": 13,
     "metadata": {},
     "output_type": "execute_result"
    }
   ],
   "source": [
    "np.mean([len(sent) for sent in tokenize.sent_tokenize(data['Review'][0])])"
   ]
  },
  {
   "cell_type": "code",
   "execution_count": 14,
   "id": "cb25a306",
   "metadata": {
    "execution": {
     "iopub.execute_input": "2024-07-05T18:43:54.867334Z",
     "iopub.status.busy": "2024-07-05T18:43:54.866883Z",
     "iopub.status.idle": "2024-07-05T18:43:56.554606Z",
     "shell.execute_reply": "2024-07-05T18:43:56.553361Z"
    },
    "papermill": {
     "duration": 1.707904,
     "end_time": "2024-07-05T18:43:56.557431",
     "exception": false,
     "start_time": "2024-07-05T18:43:54.849527",
     "status": "completed"
    },
    "tags": []
   },
   "outputs": [
    {
     "data": {
      "text/html": [
       "<div>\n",
       "<style scoped>\n",
       "    .dataframe tbody tr th:only-of-type {\n",
       "        vertical-align: middle;\n",
       "    }\n",
       "\n",
       "    .dataframe tbody tr th {\n",
       "        vertical-align: top;\n",
       "    }\n",
       "\n",
       "    .dataframe thead th {\n",
       "        text-align: right;\n",
       "    }\n",
       "</style>\n",
       "<table border=\"1\" class=\"dataframe\">\n",
       "  <thead>\n",
       "    <tr style=\"text-align: right;\">\n",
       "      <th></th>\n",
       "      <th>Review</th>\n",
       "      <th>Rating</th>\n",
       "      <th>Length</th>\n",
       "      <th>Word_count</th>\n",
       "      <th>mean_word_length</th>\n",
       "      <th>mean_sent_length</th>\n",
       "    </tr>\n",
       "  </thead>\n",
       "  <tbody>\n",
       "    <tr>\n",
       "      <th>0</th>\n",
       "      <td>nice hotel expensive parking got good deal sta...</td>\n",
       "      <td>Positive</td>\n",
       "      <td>593</td>\n",
       "      <td>87</td>\n",
       "      <td>5.804598</td>\n",
       "      <td>591.0</td>\n",
       "    </tr>\n",
       "    <tr>\n",
       "      <th>1</th>\n",
       "      <td>ok nothing special charge diamond member hilto...</td>\n",
       "      <td>Negative</td>\n",
       "      <td>1689</td>\n",
       "      <td>250</td>\n",
       "      <td>5.752000</td>\n",
       "      <td>1687.0</td>\n",
       "    </tr>\n",
       "    <tr>\n",
       "      <th>2</th>\n",
       "      <td>nice rooms not 4* experience hotel monaco seat...</td>\n",
       "      <td>Negative</td>\n",
       "      <td>1427</td>\n",
       "      <td>217</td>\n",
       "      <td>5.571429</td>\n",
       "      <td>712.0</td>\n",
       "    </tr>\n",
       "    <tr>\n",
       "      <th>3</th>\n",
       "      <td>unique, great stay, wonderful time hotel monac...</td>\n",
       "      <td>Positive</td>\n",
       "      <td>600</td>\n",
       "      <td>89</td>\n",
       "      <td>5.730337</td>\n",
       "      <td>598.0</td>\n",
       "    </tr>\n",
       "    <tr>\n",
       "      <th>4</th>\n",
       "      <td>great stay great stay, went seahawk game aweso...</td>\n",
       "      <td>Positive</td>\n",
       "      <td>1281</td>\n",
       "      <td>191</td>\n",
       "      <td>5.701571</td>\n",
       "      <td>1279.0</td>\n",
       "    </tr>\n",
       "    <tr>\n",
       "      <th>5</th>\n",
       "      <td>love monaco staff husband stayed hotel crazy w...</td>\n",
       "      <td>Positive</td>\n",
       "      <td>1002</td>\n",
       "      <td>134</td>\n",
       "      <td>6.470149</td>\n",
       "      <td>1000.0</td>\n",
       "    </tr>\n",
       "    <tr>\n",
       "      <th>6</th>\n",
       "      <td>cozy stay rainy city, husband spent 7 nights m...</td>\n",
       "      <td>Positive</td>\n",
       "      <td>748</td>\n",
       "      <td>101</td>\n",
       "      <td>6.396040</td>\n",
       "      <td>746.0</td>\n",
       "    </tr>\n",
       "    <tr>\n",
       "      <th>7</th>\n",
       "      <td>excellent staff, housekeeping quality hotel ch...</td>\n",
       "      <td>Positive</td>\n",
       "      <td>597</td>\n",
       "      <td>85</td>\n",
       "      <td>6.011765</td>\n",
       "      <td>595.0</td>\n",
       "    </tr>\n",
       "    <tr>\n",
       "      <th>8</th>\n",
       "      <td>hotel stayed hotel monaco cruise, rooms genero...</td>\n",
       "      <td>Positive</td>\n",
       "      <td>419</td>\n",
       "      <td>59</td>\n",
       "      <td>6.084746</td>\n",
       "      <td>417.0</td>\n",
       "    </tr>\n",
       "    <tr>\n",
       "      <th>9</th>\n",
       "      <td>excellent stayed hotel monaco past w/e delight...</td>\n",
       "      <td>Positive</td>\n",
       "      <td>271</td>\n",
       "      <td>35</td>\n",
       "      <td>6.714286</td>\n",
       "      <td>269.0</td>\n",
       "    </tr>\n",
       "  </tbody>\n",
       "</table>\n",
       "</div>"
      ],
      "text/plain": [
       "                                              Review    Rating  Length  \\\n",
       "0  nice hotel expensive parking got good deal sta...  Positive     593   \n",
       "1  ok nothing special charge diamond member hilto...  Negative    1689   \n",
       "2  nice rooms not 4* experience hotel monaco seat...  Negative    1427   \n",
       "3  unique, great stay, wonderful time hotel monac...  Positive     600   \n",
       "4  great stay great stay, went seahawk game aweso...  Positive    1281   \n",
       "5  love monaco staff husband stayed hotel crazy w...  Positive    1002   \n",
       "6  cozy stay rainy city, husband spent 7 nights m...  Positive     748   \n",
       "7  excellent staff, housekeeping quality hotel ch...  Positive     597   \n",
       "8  hotel stayed hotel monaco cruise, rooms genero...  Positive     419   \n",
       "9  excellent stayed hotel monaco past w/e delight...  Positive     271   \n",
       "\n",
       "   Word_count  mean_word_length  mean_sent_length  \n",
       "0          87          5.804598             591.0  \n",
       "1         250          5.752000            1687.0  \n",
       "2         217          5.571429             712.0  \n",
       "3          89          5.730337             598.0  \n",
       "4         191          5.701571            1279.0  \n",
       "5         134          6.470149            1000.0  \n",
       "6         101          6.396040             746.0  \n",
       "7          85          6.011765             595.0  \n",
       "8          59          6.084746             417.0  \n",
       "9          35          6.714286             269.0  "
      ]
     },
     "execution_count": 14,
     "metadata": {},
     "output_type": "execute_result"
    }
   ],
   "source": [
    "data['mean_sent_length'] = data['Review'].map(lambda rev: np.mean([len(sent) for sent in tokenize.sent_tokenize(rev)]))\n",
    "data.head(10)"
   ]
  },
  {
   "cell_type": "code",
   "execution_count": 15,
   "id": "7352cf36",
   "metadata": {
    "execution": {
     "iopub.execute_input": "2024-07-05T18:43:56.592007Z",
     "iopub.status.busy": "2024-07-05T18:43:56.591563Z",
     "iopub.status.idle": "2024-07-05T18:43:56.600325Z",
     "shell.execute_reply": "2024-07-05T18:43:56.598852Z"
    },
    "papermill": {
     "duration": 0.029629,
     "end_time": "2024-07-05T18:43:56.603217",
     "exception": false,
     "start_time": "2024-07-05T18:43:56.573588",
     "status": "completed"
    },
    "tags": []
   },
   "outputs": [],
   "source": [
    "def visualize(col):\n",
    "    \n",
    "    print()\n",
    "    plt.subplot(1,2,1)\n",
    "    sns.boxplot(y=data[col], hue=data['Rating'])\n",
    "    plt.ylabel(col, labelpad=12.5)\n",
    "    \n",
    "    plt.subplot(1,2,2)\n",
    "    sns.kdeplot(data[col], hue=data['Rating'])\n",
    "    plt.legend(data['Rating'].unique())\n",
    "    plt.xlabel('')\n",
    "    plt.ylabel('')\n",
    "    \n",
    "    plt.show()"
   ]
  },
  {
   "cell_type": "code",
   "execution_count": 16,
   "id": "226c4898",
   "metadata": {
    "execution": {
     "iopub.execute_input": "2024-07-05T18:43:56.637649Z",
     "iopub.status.busy": "2024-07-05T18:43:56.637189Z",
     "iopub.status.idle": "2024-07-05T18:43:59.176866Z",
     "shell.execute_reply": "2024-07-05T18:43:59.175378Z"
    },
    "papermill": {
     "duration": 2.560588,
     "end_time": "2024-07-05T18:43:59.179959",
     "exception": false,
     "start_time": "2024-07-05T18:43:56.619371",
     "status": "completed"
    },
    "tags": []
   },
   "outputs": [
    {
     "name": "stdout",
     "output_type": "stream",
     "text": [
      "\n"
     ]
    },
    {
     "data": {
      "image/png": "[encoded data removed]",
      "text/plain": [
       "<Figure size 1224x504 with 2 Axes>"
      ]
     },
     "metadata": {},
     "output_type": "display_data"
    },
    {
     "name": "stdout",
     "output_type": "stream",
     "text": [
      "\n"
     ]
    },
    {
     "data": {
      "image/png": "[encoded data removed]",
      "text/plain": [
       "<Figure size 1224x504 with 2 Axes>"
      ]
     },
     "metadata": {},
     "output_type": "display_data"
    },
    {
     "name": "stdout",
     "output_type": "stream",
     "text": [
      "\n"
     ]
    },
    {
     "data": {
      "image/png": "[encoded data removed]",
      "text/plain": [
       "<Figure size 1224x504 with 2 Axes>"
      ]
     },
     "metadata": {},
     "output_type": "display_data"
    },
    {
     "name": "stdout",
     "output_type": "stream",
     "text": [
      "\n"
     ]
    },
    {
     "data": {
      "image/png": "[encoded data removed]",
      "text/plain": [
       "<Figure size 1224x504 with 2 Axes>"
      ]
     },
     "metadata": {},
     "output_type": "display_data"
    }
   ],
   "source": [
    "features = data.columns.tolist()[2:]\n",
    "for feature in features:\n",
    "    visualize(feature)"
   ]
  },
  {
   "cell_type": "markdown",
   "id": "e79e25af",
   "metadata": {
    "papermill": {
     "duration": 0.019758,
     "end_time": "2024-07-05T18:43:59.221014",
     "exception": false,
     "start_time": "2024-07-05T18:43:59.201256",
     "status": "completed"
    },
    "tags": []
   },
   "source": [
    "## Term Frequency Analysis\n",
    "Examining the most frequently occuring words is one of the most popular systems of Text analytics. For example, in a sentiment analysis problem, a positive text is bound to have words like 'good', 'great', 'nice', etc. more in number than other words that imply otherwise.\n",
    "\n",
    "*Note*: Term Frequencies are more than counts and lenghts, so the first requirement is to preprocess the text"
   ]
  },
  {
   "cell_type": "code",
   "execution_count": 17,
   "id": "f2236735",
   "metadata": {
    "execution": {
     "iopub.execute_input": "2024-07-05T18:43:59.263210Z",
     "iopub.status.busy": "2024-07-05T18:43:59.262728Z",
     "iopub.status.idle": "2024-07-05T18:43:59.278848Z",
     "shell.execute_reply": "2024-07-05T18:43:59.277567Z"
    },
    "papermill": {
     "duration": 0.040913,
     "end_time": "2024-07-05T18:43:59.281837",
     "exception": false,
     "start_time": "2024-07-05T18:43:59.240924",
     "status": "completed"
    },
    "tags": []
   },
   "outputs": [
    {
     "data": {
      "text/html": [
       "<div>\n",
       "<style scoped>\n",
       "    .dataframe tbody tr th:only-of-type {\n",
       "        vertical-align: middle;\n",
       "    }\n",
       "\n",
       "    .dataframe tbody tr th {\n",
       "        vertical-align: top;\n",
       "    }\n",
       "\n",
       "    .dataframe thead th {\n",
       "        text-align: right;\n",
       "    }\n",
       "</style>\n",
       "<table border=\"1\" class=\"dataframe\">\n",
       "  <thead>\n",
       "    <tr style=\"text-align: right;\">\n",
       "      <th></th>\n",
       "      <th>Review</th>\n",
       "      <th>Rating</th>\n",
       "    </tr>\n",
       "  </thead>\n",
       "  <tbody>\n",
       "    <tr>\n",
       "      <th>0</th>\n",
       "      <td>nice hotel expensive parking got good deal sta...</td>\n",
       "      <td>Positive</td>\n",
       "    </tr>\n",
       "    <tr>\n",
       "      <th>1</th>\n",
       "      <td>ok nothing special charge diamond member hilto...</td>\n",
       "      <td>Negative</td>\n",
       "    </tr>\n",
       "    <tr>\n",
       "      <th>2</th>\n",
       "      <td>nice rooms not 4* experience hotel monaco seat...</td>\n",
       "      <td>Negative</td>\n",
       "    </tr>\n",
       "    <tr>\n",
       "      <th>3</th>\n",
       "      <td>unique, great stay, wonderful time hotel monac...</td>\n",
       "      <td>Positive</td>\n",
       "    </tr>\n",
       "    <tr>\n",
       "      <th>4</th>\n",
       "      <td>great stay great stay, went seahawk game aweso...</td>\n",
       "      <td>Positive</td>\n",
       "    </tr>\n",
       "  </tbody>\n",
       "</table>\n",
       "</div>"
      ],
      "text/plain": [
       "                                              Review    Rating\n",
       "0  nice hotel expensive parking got good deal sta...  Positive\n",
       "1  ok nothing special charge diamond member hilto...  Negative\n",
       "2  nice rooms not 4* experience hotel monaco seat...  Negative\n",
       "3  unique, great stay, wonderful time hotel monac...  Positive\n",
       "4  great stay great stay, went seahawk game aweso...  Positive"
      ]
     },
     "execution_count": 17,
     "metadata": {},
     "output_type": "execute_result"
    }
   ],
   "source": [
    "df = data.drop(features, axis=1)\n",
    "df.head()"
   ]
  },
  {
   "cell_type": "code",
   "execution_count": 18,
   "id": "da12d569",
   "metadata": {
    "execution": {
     "iopub.execute_input": "2024-07-05T18:43:59.324350Z",
     "iopub.status.busy": "2024-07-05T18:43:59.323857Z",
     "iopub.status.idle": "2024-07-05T18:43:59.347605Z",
     "shell.execute_reply": "2024-07-05T18:43:59.346214Z"
    },
    "papermill": {
     "duration": 0.048209,
     "end_time": "2024-07-05T18:43:59.350400",
     "exception": false,
     "start_time": "2024-07-05T18:43:59.302191",
     "status": "completed"
    },
    "tags": []
   },
   "outputs": [
    {
     "name": "stdout",
     "output_type": "stream",
     "text": [
      "<class 'pandas.core.frame.DataFrame'>\n",
      "RangeIndex: 20491 entries, 0 to 20490\n",
      "Data columns (total 2 columns):\n",
      " #   Column  Non-Null Count  Dtype \n",
      "---  ------  --------------  ----- \n",
      " 0   Review  20491 non-null  object\n",
      " 1   Rating  20491 non-null  object\n",
      "dtypes: object(2)\n",
      "memory usage: 320.3+ KB\n"
     ]
    }
   ],
   "source": [
    "df.info()"
   ]
  },
  {
   "cell_type": "markdown",
   "id": "d176ce48",
   "metadata": {
    "papermill": {
     "duration": 0.021471,
     "end_time": "2024-07-05T18:43:59.392385",
     "exception": false,
     "start_time": "2024-07-05T18:43:59.370914",
     "status": "completed"
    },
    "tags": []
   },
   "source": [
    "There is no missing data, therefore, we can move to the next stage. For Term frequency analysis, it is essential that the text data be preprocessed.\n",
    "* Lowercase\n",
    "* Remove punctutations\n",
    "* Stopword removal"
   ]
  },
  {
   "cell_type": "code",
   "execution_count": 19,
   "id": "4c73797e",
   "metadata": {
    "execution": {
     "iopub.execute_input": "2024-07-05T18:43:59.435675Z",
     "iopub.status.busy": "2024-07-05T18:43:59.435228Z",
     "iopub.status.idle": "2024-07-05T18:43:59.442836Z",
     "shell.execute_reply": "2024-07-05T18:43:59.441444Z"
    },
    "papermill": {
     "duration": 0.032725,
     "end_time": "2024-07-05T18:43:59.445917",
     "exception": false,
     "start_time": "2024-07-05T18:43:59.413192",
     "status": "completed"
    },
    "tags": []
   },
   "outputs": [],
   "source": [
    "def clean(review):\n",
    "    \n",
    "    review = review.lower()\n",
    "    review = re.sub('[^a-z A-Z 0-9-]+', '', review)\n",
    "    review = \" \".join([word for word in review.split() if word not in stopwords.words('english')])\n",
    "    \n",
    "    return review"
   ]
  },
  {
   "cell_type": "code",
   "execution_count": 20,
   "id": "dfa91d1d",
   "metadata": {
    "_kg_hide-output": true,
    "execution": {
     "iopub.execute_input": "2024-07-05T18:43:59.490880Z",
     "iopub.status.busy": "2024-07-05T18:43:59.490442Z",
     "iopub.status.idle": "2024-07-05T18:49:47.563233Z",
     "shell.execute_reply": "2024-07-05T18:49:47.561243Z"
    },
    "papermill": {
     "duration": 348.12243,
     "end_time": "2024-07-05T18:49:47.589458",
     "exception": false,
     "start_time": "2024-07-05T18:43:59.467028",
     "status": "completed"
    },
    "tags": []
   },
   "outputs": [
    {
     "data": {
      "text/html": [
       "<div>\n",
       "<style scoped>\n",
       "    .dataframe tbody tr th:only-of-type {\n",
       "        vertical-align: middle;\n",
       "    }\n",
       "\n",
       "    .dataframe tbody tr th {\n",
       "        vertical-align: top;\n",
       "    }\n",
       "\n",
       "    .dataframe thead th {\n",
       "        text-align: right;\n",
       "    }\n",
       "</style>\n",
       "<table border=\"1\" class=\"dataframe\">\n",
       "  <thead>\n",
       "    <tr style=\"text-align: right;\">\n",
       "      <th></th>\n",
       "      <th>Review</th>\n",
       "      <th>Rating</th>\n",
       "    </tr>\n",
       "  </thead>\n",
       "  <tbody>\n",
       "    <tr>\n",
       "      <th>0</th>\n",
       "      <td>nice hotel expensive parking got good deal sta...</td>\n",
       "      <td>Positive</td>\n",
       "    </tr>\n",
       "    <tr>\n",
       "      <th>1</th>\n",
       "      <td>ok nothing special charge diamond member hilto...</td>\n",
       "      <td>Negative</td>\n",
       "    </tr>\n",
       "    <tr>\n",
       "      <th>2</th>\n",
       "      <td>nice rooms 4 experience hotel monaco seattle g...</td>\n",
       "      <td>Negative</td>\n",
       "    </tr>\n",
       "    <tr>\n",
       "      <th>3</th>\n",
       "      <td>unique great stay wonderful time hotel monaco ...</td>\n",
       "      <td>Positive</td>\n",
       "    </tr>\n",
       "    <tr>\n",
       "      <th>4</th>\n",
       "      <td>great stay great stay went seahawk game awesom...</td>\n",
       "      <td>Positive</td>\n",
       "    </tr>\n",
       "    <tr>\n",
       "      <th>5</th>\n",
       "      <td>love monaco staff husband stayed hotel crazy w...</td>\n",
       "      <td>Positive</td>\n",
       "    </tr>\n",
       "    <tr>\n",
       "      <th>6</th>\n",
       "      <td>cozy stay rainy city husband spent 7 nights mo...</td>\n",
       "      <td>Positive</td>\n",
       "    </tr>\n",
       "    <tr>\n",
       "      <th>7</th>\n",
       "      <td>excellent staff housekeeping quality hotel cho...</td>\n",
       "      <td>Positive</td>\n",
       "    </tr>\n",
       "    <tr>\n",
       "      <th>8</th>\n",
       "      <td>hotel stayed hotel monaco cruise rooms generou...</td>\n",
       "      <td>Positive</td>\n",
       "    </tr>\n",
       "    <tr>\n",
       "      <th>9</th>\n",
       "      <td>excellent stayed hotel monaco past delight rec...</td>\n",
       "      <td>Positive</td>\n",
       "    </tr>\n",
       "  </tbody>\n",
       "</table>\n",
       "</div>"
      ],
      "text/plain": [
       "                                              Review    Rating\n",
       "0  nice hotel expensive parking got good deal sta...  Positive\n",
       "1  ok nothing special charge diamond member hilto...  Negative\n",
       "2  nice rooms 4 experience hotel monaco seattle g...  Negative\n",
       "3  unique great stay wonderful time hotel monaco ...  Positive\n",
       "4  great stay great stay went seahawk game awesom...  Positive\n",
       "5  love monaco staff husband stayed hotel crazy w...  Positive\n",
       "6  cozy stay rainy city husband spent 7 nights mo...  Positive\n",
       "7  excellent staff housekeeping quality hotel cho...  Positive\n",
       "8  hotel stayed hotel monaco cruise rooms generou...  Positive\n",
       "9  excellent stayed hotel monaco past delight rec...  Positive"
      ]
     },
     "execution_count": 20,
     "metadata": {},
     "output_type": "execute_result"
    }
   ],
   "source": [
    "df['Review'] = df['Review'].apply(clean)\n",
    "df.head(10)"
   ]
  },
  {
   "cell_type": "code",
   "execution_count": 21,
   "id": "9b8a81e5",
   "metadata": {
    "execution": {
     "iopub.execute_input": "2024-07-05T18:49:47.635100Z",
     "iopub.status.busy": "2024-07-05T18:49:47.634630Z",
     "iopub.status.idle": "2024-07-05T18:49:47.643195Z",
     "shell.execute_reply": "2024-07-05T18:49:47.641851Z"
    },
    "papermill": {
     "duration": 0.03448,
     "end_time": "2024-07-05T18:49:47.645820",
     "exception": false,
     "start_time": "2024-07-05T18:49:47.611340",
     "status": "completed"
    },
    "tags": []
   },
   "outputs": [
    {
     "data": {
      "text/plain": [
       "'nice hotel expensive parking got good deal stay hotel anniversary arrived late evening took advice previous reviews valet parking check quick easy little disappointed non-existent view room room clean nice size bed comfortable woke stiff neck high pillows soundproof like heard music room night morning loud bangs doors opening closing hear people talking hallway maybe noisy neighbors aveda bath products nice goldfish stay nice touch taken advantage staying longer location great walking distance shopping overall nice experience pay 40 parking night'"
      ]
     },
     "execution_count": 21,
     "metadata": {},
     "output_type": "execute_result"
    }
   ],
   "source": [
    "df['Review'][0]"
   ]
  },
  {
   "cell_type": "code",
   "execution_count": 22,
   "id": "ab957dca",
   "metadata": {
    "execution": {
     "iopub.execute_input": "2024-07-05T18:49:47.693411Z",
     "iopub.status.busy": "2024-07-05T18:49:47.692915Z",
     "iopub.status.idle": "2024-07-05T18:49:47.699351Z",
     "shell.execute_reply": "2024-07-05T18:49:47.698012Z"
    },
    "papermill": {
     "duration": 0.034992,
     "end_time": "2024-07-05T18:49:47.703303",
     "exception": false,
     "start_time": "2024-07-05T18:49:47.668311",
     "status": "completed"
    },
    "tags": []
   },
   "outputs": [],
   "source": [
    "def corpus(text):\n",
    "    text_list = text.split()\n",
    "    return text_list"
   ]
  },
  {
   "cell_type": "code",
   "execution_count": 23,
   "id": "6fe37970",
   "metadata": {
    "_kg_hide-output": true,
    "execution": {
     "iopub.execute_input": "2024-07-05T18:49:47.750731Z",
     "iopub.status.busy": "2024-07-05T18:49:47.749192Z",
     "iopub.status.idle": "2024-07-05T18:49:48.296086Z",
     "shell.execute_reply": "2024-07-05T18:49:48.294750Z"
    },
    "papermill": {
     "duration": 0.574546,
     "end_time": "2024-07-05T18:49:48.299139",
     "exception": false,
     "start_time": "2024-07-05T18:49:47.724593",
     "status": "completed"
    },
    "tags": []
   },
   "outputs": [
    {
     "data": {
      "text/html": [
       "<div>\n",
       "<style scoped>\n",
       "    .dataframe tbody tr th:only-of-type {\n",
       "        vertical-align: middle;\n",
       "    }\n",
       "\n",
       "    .dataframe tbody tr th {\n",
       "        vertical-align: top;\n",
       "    }\n",
       "\n",
       "    .dataframe thead th {\n",
       "        text-align: right;\n",
       "    }\n",
       "</style>\n",
       "<table border=\"1\" class=\"dataframe\">\n",
       "  <thead>\n",
       "    <tr style=\"text-align: right;\">\n",
       "      <th></th>\n",
       "      <th>Review</th>\n",
       "      <th>Rating</th>\n",
       "      <th>Review_lists</th>\n",
       "    </tr>\n",
       "  </thead>\n",
       "  <tbody>\n",
       "    <tr>\n",
       "      <th>0</th>\n",
       "      <td>nice hotel expensive parking got good deal sta...</td>\n",
       "      <td>Positive</td>\n",
       "      <td>[nice, hotel, expensive, parking, got, good, d...</td>\n",
       "    </tr>\n",
       "    <tr>\n",
       "      <th>1</th>\n",
       "      <td>ok nothing special charge diamond member hilto...</td>\n",
       "      <td>Negative</td>\n",
       "      <td>[ok, nothing, special, charge, diamond, member...</td>\n",
       "    </tr>\n",
       "    <tr>\n",
       "      <th>2</th>\n",
       "      <td>nice rooms 4 experience hotel monaco seattle g...</td>\n",
       "      <td>Negative</td>\n",
       "      <td>[nice, rooms, 4, experience, hotel, monaco, se...</td>\n",
       "    </tr>\n",
       "    <tr>\n",
       "      <th>3</th>\n",
       "      <td>unique great stay wonderful time hotel monaco ...</td>\n",
       "      <td>Positive</td>\n",
       "      <td>[unique, great, stay, wonderful, time, hotel, ...</td>\n",
       "    </tr>\n",
       "    <tr>\n",
       "      <th>4</th>\n",
       "      <td>great stay great stay went seahawk game awesom...</td>\n",
       "      <td>Positive</td>\n",
       "      <td>[great, stay, great, stay, went, seahawk, game...</td>\n",
       "    </tr>\n",
       "    <tr>\n",
       "      <th>5</th>\n",
       "      <td>love monaco staff husband stayed hotel crazy w...</td>\n",
       "      <td>Positive</td>\n",
       "      <td>[love, monaco, staff, husband, stayed, hotel, ...</td>\n",
       "    </tr>\n",
       "    <tr>\n",
       "      <th>6</th>\n",
       "      <td>cozy stay rainy city husband spent 7 nights mo...</td>\n",
       "      <td>Positive</td>\n",
       "      <td>[cozy, stay, rainy, city, husband, spent, 7, n...</td>\n",
       "    </tr>\n",
       "    <tr>\n",
       "      <th>7</th>\n",
       "      <td>excellent staff housekeeping quality hotel cho...</td>\n",
       "      <td>Positive</td>\n",
       "      <td>[excellent, staff, housekeeping, quality, hote...</td>\n",
       "    </tr>\n",
       "    <tr>\n",
       "      <th>8</th>\n",
       "      <td>hotel stayed hotel monaco cruise rooms generou...</td>\n",
       "      <td>Positive</td>\n",
       "      <td>[hotel, stayed, hotel, monaco, cruise, rooms, ...</td>\n",
       "    </tr>\n",
       "    <tr>\n",
       "      <th>9</th>\n",
       "      <td>excellent stayed hotel monaco past delight rec...</td>\n",
       "      <td>Positive</td>\n",
       "      <td>[excellent, stayed, hotel, monaco, past, delig...</td>\n",
       "    </tr>\n",
       "  </tbody>\n",
       "</table>\n",
       "</div>"
      ],
      "text/plain": [
       "                                              Review    Rating  \\\n",
       "0  nice hotel expensive parking got good deal sta...  Positive   \n",
       "1  ok nothing special charge diamond member hilto...  Negative   \n",
       "2  nice rooms 4 experience hotel monaco seattle g...  Negative   \n",
       "3  unique great stay wonderful time hotel monaco ...  Positive   \n",
       "4  great stay great stay went seahawk game awesom...  Positive   \n",
       "5  love monaco staff husband stayed hotel crazy w...  Positive   \n",
       "6  cozy stay rainy city husband spent 7 nights mo...  Positive   \n",
       "7  excellent staff housekeeping quality hotel cho...  Positive   \n",
       "8  hotel stayed hotel monaco cruise rooms generou...  Positive   \n",
       "9  excellent stayed hotel monaco past delight rec...  Positive   \n",
       "\n",
       "                                        Review_lists  \n",
       "0  [nice, hotel, expensive, parking, got, good, d...  \n",
       "1  [ok, nothing, special, charge, diamond, member...  \n",
       "2  [nice, rooms, 4, experience, hotel, monaco, se...  \n",
       "3  [unique, great, stay, wonderful, time, hotel, ...  \n",
       "4  [great, stay, great, stay, went, seahawk, game...  \n",
       "5  [love, monaco, staff, husband, stayed, hotel, ...  \n",
       "6  [cozy, stay, rainy, city, husband, spent, 7, n...  \n",
       "7  [excellent, staff, housekeeping, quality, hote...  \n",
       "8  [hotel, stayed, hotel, monaco, cruise, rooms, ...  \n",
       "9  [excellent, stayed, hotel, monaco, past, delig...  "
      ]
     },
     "execution_count": 23,
     "metadata": {},
     "output_type": "execute_result"
    }
   ],
   "source": [
    "df['Review_lists'] = df['Review'].apply(corpus)\n",
    "df.head(10)"
   ]
  },
  {
   "cell_type": "code",
   "execution_count": 24,
   "id": "97cf6317",
   "metadata": {
    "execution": {
     "iopub.execute_input": "2024-07-05T18:49:48.343865Z",
     "iopub.status.busy": "2024-07-05T18:49:48.343396Z",
     "iopub.status.idle": "2024-07-05T18:49:48.612672Z",
     "shell.execute_reply": "2024-07-05T18:49:48.611458Z"
    },
    "papermill": {
     "duration": 0.295297,
     "end_time": "2024-07-05T18:49:48.615568",
     "exception": false,
     "start_time": "2024-07-05T18:49:48.320271",
     "status": "completed"
    },
    "tags": []
   },
   "outputs": [
    {
     "name": "stderr",
     "output_type": "stream",
     "text": [
      "100%|\u001b[32m████████████████████████████████████████████████████████████████████████████████████████████████████████\u001b[0m| 20491/20491 [00:00<00:00, 81306.69it/s]\u001b[0m\n"
     ]
    },
    {
     "data": {
      "text/plain": [
       "2060911"
      ]
     },
     "execution_count": 24,
     "metadata": {},
     "output_type": "execute_result"
    }
   ],
   "source": [
    "corpus = []\n",
    "for i in trange(df.shape[0], ncols=150, nrows=10, colour='green', smoothing=0.8):\n",
    "    corpus += df['Review_lists'][i]\n",
    "len(corpus)"
   ]
  },
  {
   "cell_type": "code",
   "execution_count": 25,
   "id": "1f9e0d29",
   "metadata": {
    "execution": {
     "iopub.execute_input": "2024-07-05T18:49:48.663365Z",
     "iopub.status.busy": "2024-07-05T18:49:48.662883Z",
     "iopub.status.idle": "2024-07-05T18:49:49.116501Z",
     "shell.execute_reply": "2024-07-05T18:49:49.115212Z"
    },
    "papermill": {
     "duration": 0.481485,
     "end_time": "2024-07-05T18:49:49.119581",
     "exception": false,
     "start_time": "2024-07-05T18:49:48.638096",
     "status": "completed"
    },
    "tags": []
   },
   "outputs": [
    {
     "data": {
      "text/plain": [
       "[('hotel', 48844),\n",
       " ('room', 34279),\n",
       " ('great', 21068),\n",
       " ('nt', 18989),\n",
       " ('good', 16953),\n",
       " ('staff', 16193),\n",
       " ('stay', 15142),\n",
       " ('nice', 12393),\n",
       " ('rooms', 12005),\n",
       " ('location', 11009)]"
      ]
     },
     "execution_count": 25,
     "metadata": {},
     "output_type": "execute_result"
    }
   ],
   "source": [
    "mostCommon = Counter(corpus).most_common(10)\n",
    "mostCommon"
   ]
  },
  {
   "cell_type": "code",
   "execution_count": 26,
   "id": "7ce4ff47",
   "metadata": {
    "execution": {
     "iopub.execute_input": "2024-07-05T18:49:49.166930Z",
     "iopub.status.busy": "2024-07-05T18:49:49.166448Z",
     "iopub.status.idle": "2024-07-05T18:49:49.172962Z",
     "shell.execute_reply": "2024-07-05T18:49:49.171621Z"
    },
    "papermill": {
     "duration": 0.033278,
     "end_time": "2024-07-05T18:49:49.175787",
     "exception": false,
     "start_time": "2024-07-05T18:49:49.142509",
     "status": "completed"
    },
    "tags": []
   },
   "outputs": [],
   "source": [
    "words = []\n",
    "freq = []\n",
    "for word, count in mostCommon:\n",
    "    words.append(word)\n",
    "    freq.append(count)"
   ]
  },
  {
   "cell_type": "code",
   "execution_count": 27,
   "id": "3881b8d0",
   "metadata": {
    "execution": {
     "iopub.execute_input": "2024-07-05T18:49:49.223055Z",
     "iopub.status.busy": "2024-07-05T18:49:49.221913Z",
     "iopub.status.idle": "2024-07-05T18:49:49.585829Z",
     "shell.execute_reply": "2024-07-05T18:49:49.584484Z"
    },
    "papermill": {
     "duration": 0.390763,
     "end_time": "2024-07-05T18:49:49.588811",
     "exception": false,
     "start_time": "2024-07-05T18:49:49.198048",
     "status": "completed"
    },
    "tags": []
   },
   "outputs": [
    {
     "data": {
      "image/png": "[encoded data removed]",
      "text/plain": [
       "<Figure size 1224x504 with 1 Axes>"
      ]
     },
     "metadata": {},
     "output_type": "display_data"
    }
   ],
   "source": [
    "sns.barplot(x=freq, y=words)\n",
    "plt.title('Top 10 Most Frequently Occuring Words')\n",
    "plt.show()"
   ]
  },
  {
   "cell_type": "markdown",
   "id": "8b53578e",
   "metadata": {
    "papermill": {
     "duration": 0.023207,
     "end_time": "2024-07-05T18:49:49.635578",
     "exception": false,
     "start_time": "2024-07-05T18:49:49.612371",
     "status": "completed"
    },
    "tags": []
   },
   "source": [
    "## Most Frequently occuring N_grams\n",
    "\n",
    "**What is an N-gram?** <br>\n",
    "An n-gram is sequence of n words in a text. Most words by themselves may not present the entire context. Typically adverbs such as 'most' or 'very' are used to modify verbs and adjectives. Therefore, n-grams help analyse phrases and not just words which can lead to better insights.\n",
    "<br>\n",
    "> A **Bi-gram** means two words in a sequence. 'Very good' or 'Too great'<br>\n",
    "> A **Tri-gram** means three words in a sequence. 'How was your day' would be broken down to 'How was your' and 'was your day'.<br>\n",
    "\n",
    "For separating text into n-grams, we will use `CountVectorizer` from Sklearn"
   ]
  },
  {
   "cell_type": "code",
   "execution_count": 28,
   "id": "b2f9a364",
   "metadata": {
    "execution": {
     "iopub.execute_input": "2024-07-05T18:49:49.683698Z",
     "iopub.status.busy": "2024-07-05T18:49:49.683219Z",
     "iopub.status.idle": "2024-07-05T18:49:59.454530Z",
     "shell.execute_reply": "2024-07-05T18:49:59.453278Z"
    },
    "papermill": {
     "duration": 9.799187,
     "end_time": "2024-07-05T18:49:59.457835",
     "exception": false,
     "start_time": "2024-07-05T18:49:49.658648",
     "status": "completed"
    },
    "tags": []
   },
   "outputs": [],
   "source": [
    "cv = CountVectorizer(ngram_range=(2,2))\n",
    "bigrams = cv.fit_transform(df['Review'])"
   ]
  },
  {
   "cell_type": "code",
   "execution_count": 29,
   "id": "39bf0e0c",
   "metadata": {
    "execution": {
     "iopub.execute_input": "2024-07-05T18:49:59.508148Z",
     "iopub.status.busy": "2024-07-05T18:49:59.507611Z",
     "iopub.status.idle": "2024-07-05T18:51:27.698204Z",
     "shell.execute_reply": "2024-07-05T18:51:27.696630Z"
    },
    "papermill": {
     "duration": 88.219661,
     "end_time": "2024-07-05T18:51:27.701340",
     "exception": false,
     "start_time": "2024-07-05T18:49:59.481679",
     "status": "completed"
    },
    "tags": []
   },
   "outputs": [],
   "source": [
    "count_values = bigrams.toarray().sum(axis=0)\n",
    "ngram_freq = pd.DataFrame(sorted([(count_values[i], k) for k, i in cv.vocabulary_.items()], reverse = True))\n",
    "ngram_freq.columns = [\"frequency\", \"ngram\"]"
   ]
  },
  {
   "cell_type": "code",
   "execution_count": 30,
   "id": "0fa97c69",
   "metadata": {
    "execution": {
     "iopub.execute_input": "2024-07-05T18:51:27.750259Z",
     "iopub.status.busy": "2024-07-05T18:51:27.749778Z",
     "iopub.status.idle": "2024-07-05T18:51:28.047243Z",
     "shell.execute_reply": "2024-07-05T18:51:28.045920Z"
    },
    "papermill": {
     "duration": 0.325182,
     "end_time": "2024-07-05T18:51:28.050063",
     "exception": false,
     "start_time": "2024-07-05T18:51:27.724881",
     "status": "completed"
    },
    "tags": []
   },
   "outputs": [
    {
     "data": {
      "image/png": "[encoded data removed]",
      "text/plain": [
       "<Figure size 1224x504 with 1 Axes>"
      ]
     },
     "metadata": {},
     "output_type": "display_data"
    }
   ],
   "source": [
    "sns.barplot(x=ngram_freq['frequency'][:10], y=ngram_freq['ngram'][:10])\n",
    "plt.title('Top 10 Most Frequently Occuring Bigrams')\n",
    "plt.show()"
   ]
  },
  {
   "cell_type": "code",
   "execution_count": 31,
   "id": "1f825609",
   "metadata": {
    "execution": {
     "iopub.execute_input": "2024-07-05T18:51:28.101076Z",
     "iopub.status.busy": "2024-07-05T18:51:28.100583Z",
     "iopub.status.idle": "2024-07-05T18:54:18.571005Z",
     "shell.execute_reply": "2024-07-05T18:54:18.569523Z"
    },
    "papermill": {
     "duration": 170.500487,
     "end_time": "2024-07-05T18:54:18.574819",
     "exception": false,
     "start_time": "2024-07-05T18:51:28.074332",
     "status": "completed"
    },
    "tags": []
   },
   "outputs": [],
   "source": [
    "cv1 = CountVectorizer(ngram_range=(3,3))\n",
    "trigrams = cv1.fit_transform(df['Review'])\n",
    "count_values = trigrams.toarray().sum(axis=0)\n",
    "ngram_freq = pd.DataFrame(sorted([(count_values[i], k) for k, i in cv1.vocabulary_.items()], reverse = True))\n",
    "ngram_freq.columns = [\"frequency\", \"ngram\"]"
   ]
  },
  {
   "cell_type": "code",
   "execution_count": 32,
   "id": "4ab63d62",
   "metadata": {
    "execution": {
     "iopub.execute_input": "2024-07-05T18:54:18.627195Z",
     "iopub.status.busy": "2024-07-05T18:54:18.626677Z",
     "iopub.status.idle": "2024-07-05T18:54:19.023625Z",
     "shell.execute_reply": "2024-07-05T18:54:19.022116Z"
    },
    "papermill": {
     "duration": 0.425911,
     "end_time": "2024-07-05T18:54:19.026504",
     "exception": false,
     "start_time": "2024-07-05T18:54:18.600593",
     "status": "completed"
    },
    "tags": []
   },
   "outputs": [
    {
     "data": {
      "image/png": "[encoded data removed]",
      "text/plain": [
       "<Figure size 1224x504 with 1 Axes>"
      ]
     },
     "metadata": {},
     "output_type": "display_data"
    }
   ],
   "source": [
    "sns.barplot(x=ngram_freq['frequency'][:10], y=ngram_freq['ngram'][:10])\n",
    "plt.title('Top 10 Most Frequently Occuring Trigrams')\n",
    "plt.show()"
   ]
  },
  {
   "cell_type": "markdown",
   "id": "76edc34b",
   "metadata": {
    "papermill": {
     "duration": 0.025234,
     "end_time": "2024-07-05T18:54:19.077094",
     "exception": false,
     "start_time": "2024-07-05T18:54:19.051860",
     "status": "completed"
    },
    "tags": []
   },
   "source": [
    "<div class=\"alert alert-info\" role=\"alert\">\n",
    "    <h2>But what about Word Clouds?</h2>\n",
    "\n",
    "<p>\n",
    "    While word clouds are very appealing, they really don't provide a lot of information. A word or two are very obviously visible but other than that, there is not a lot to examine. <b>A simple bar plot may not be as attractive as a word cloud but it is surely more informative</b> - which is our ultimate goal. A word cloud may serve better as a cover to present your solution (which is why its right on top), but it can hardly be the solution. Of course, this is my personal opinion and word clouds should be used if they're absolutely needed. <br><br>\n",
    "    What do you think? Let me know in the comments!</p>\n",
    "</div>"
   ]
  }
 ],
 "metadata": {
  "kaggle": {
   "accelerator": "none",
   "dataSources": [
    {
     "datasetId": 897156,
     "sourceId": 1526618,
     "sourceType": "datasetVersion"
    }
   ],
   "dockerImageVersionId": 30260,
   "isGpuEnabled": false,
   "isInternetEnabled": true,
   "language": "python",
   "sourceType": "notebook"
  },
  "kernelspec": {
   "display_name": "Python 3",
   "language": "python",
   "name": "python3"
  },
  "language_info": {
   "codemirror_mode": {
    "name": "ipython",
    "version": 3
   },
   "file_extension": ".py",
   "mimetype": "text/x-python",
   "name": "python",
   "nbconvert_exporter": "python",
   "pygments_lexer": "ipython3",
   "version": "3.7.12"
  },
  "papermill": {
   "default_parameters": {},
   "duration": 643.440085,
   "end_time": "2024-07-05T18:54:20.537611",
   "environment_variables": {},
   "exception": null,
   "input_path": "__notebook__.ipynb",
   "output_path": "__notebook__.ipynb",
   "parameters": {},
   "start_time": "2024-07-05T18:43:37.097526",
   "version": "2.3.4"
  }
 },
 "nbformat": 4,
 "nbformat_minor": 5
}
